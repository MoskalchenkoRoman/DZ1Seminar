{
 "cells": [
  {
   "cell_type": "code",
   "execution_count": 5,
   "metadata": {},
   "outputs": [
    {
     "data": {
      "text/plain": [
       "[-1/4 - sqrt(707/12 + 5393/(9*(198439/432 + sqrt(61480244863)*I/48)**(1/3)) + 2*(198439/432 + sqrt(61480244863)*I/48)**(1/3))/2 - sqrt(707/6 - 2*(198439/432 + sqrt(61480244863)*I/48)**(1/3) - 47/(4*sqrt(707/12 + 5393/(9*(198439/432 + sqrt(61480244863)*I/48)**(1/3)) + 2*(198439/432 + sqrt(61480244863)*I/48)**(1/3))) - 5393/(9*(198439/432 + sqrt(61480244863)*I/48)**(1/3)))/2,\n",
       " -1/4 + sqrt(707/12 + 5393/(9*(198439/432 + sqrt(61480244863)*I/48)**(1/3)) + 2*(198439/432 + sqrt(61480244863)*I/48)**(1/3))/2 - sqrt(707/6 - 2*(198439/432 + sqrt(61480244863)*I/48)**(1/3) + 47/(4*sqrt(707/12 + 5393/(9*(198439/432 + sqrt(61480244863)*I/48)**(1/3)) + 2*(198439/432 + sqrt(61480244863)*I/48)**(1/3))) - 5393/(9*(198439/432 + sqrt(61480244863)*I/48)**(1/3)))/2,\n",
       " -1/4 + sqrt(707/6 - 2*(198439/432 + sqrt(61480244863)*I/48)**(1/3) - 47/(4*sqrt(707/12 + 5393/(9*(198439/432 + sqrt(61480244863)*I/48)**(1/3)) + 2*(198439/432 + sqrt(61480244863)*I/48)**(1/3))) - 5393/(9*(198439/432 + sqrt(61480244863)*I/48)**(1/3)))/2 - sqrt(707/12 + 5393/(9*(198439/432 + sqrt(61480244863)*I/48)**(1/3)) + 2*(198439/432 + sqrt(61480244863)*I/48)**(1/3))/2,\n",
       " -1/4 + sqrt(707/6 - 2*(198439/432 + sqrt(61480244863)*I/48)**(1/3) + 47/(4*sqrt(707/12 + 5393/(9*(198439/432 + sqrt(61480244863)*I/48)**(1/3)) + 2*(198439/432 + sqrt(61480244863)*I/48)**(1/3))) - 5393/(9*(198439/432 + sqrt(61480244863)*I/48)**(1/3)))/2 + sqrt(707/12 + 5393/(9*(198439/432 + sqrt(61480244863)*I/48)**(1/3)) + 2*(198439/432 + sqrt(61480244863)*I/48)**(1/3))/2]"
      ]
     },
     "execution_count": 5,
     "metadata": {},
     "output_type": "execute_result"
    }
   ],
   "source": [
    "from sympy import symbols, Eq, solve\n",
    "\n",
    "x = symbols('x', real=True)\n",
    "funcA =  -x**4 + 88*x**2 - 241\n",
    "funcB = x**3 - 50*x\n",
    "sol = solve(Eq(funcA, funcB), x)\n",
    "sol"
   ]
  },
  {
   "cell_type": "code",
   "execution_count": 6,
   "metadata": {},
   "outputs": [
    {
     "ename": "ValueError",
     "evalue": "The TextBackend supports only one graph per Plot.",
     "output_type": "error",
     "traceback": [
      "\u001b[1;31m---------------------------------------------------------------------------\u001b[0m",
      "\u001b[1;31mValueError\u001b[0m                                Traceback (most recent call last)",
      "Cell \u001b[1;32mIn[6], line 3\u001b[0m\n\u001b[0;32m      1\u001b[0m \u001b[39mfrom\u001b[39;00m \u001b[39msympy\u001b[39;00m\u001b[39m.\u001b[39;00m\u001b[39mplotting\u001b[39;00m \u001b[39mimport\u001b[39;00m plot\n\u001b[1;32m----> 3\u001b[0m plot(funcA, funcB)\n",
      "File \u001b[1;32mc:\\Users\\rymos\\AppData\\Local\\Programs\\Python\\Python311\\Lib\\site-packages\\sympy\\plotting\\plot.py:1873\u001b[0m, in \u001b[0;36mplot\u001b[1;34m(show, *args, **kwargs)\u001b[0m\n\u001b[0;32m   1871\u001b[0m plots \u001b[39m=\u001b[39m Plot(\u001b[39m*\u001b[39mseries, \u001b[39m*\u001b[39m\u001b[39m*\u001b[39mkwargs)\n\u001b[0;32m   1872\u001b[0m \u001b[39mif\u001b[39;00m show:\n\u001b[1;32m-> 1873\u001b[0m     plots\u001b[39m.\u001b[39;49mshow()\n\u001b[0;32m   1874\u001b[0m \u001b[39mreturn\u001b[39;00m plots\n",
      "File \u001b[1;32mc:\\Users\\rymos\\AppData\\Local\\Programs\\Python\\Python311\\Lib\\site-packages\\sympy\\plotting\\plot.py:251\u001b[0m, in \u001b[0;36mPlot.show\u001b[1;34m(self)\u001b[0m\n\u001b[0;32m    249\u001b[0m     \u001b[39mself\u001b[39m\u001b[39m.\u001b[39m_backend\u001b[39m.\u001b[39mclose()\n\u001b[0;32m    250\u001b[0m \u001b[39mself\u001b[39m\u001b[39m.\u001b[39m_backend \u001b[39m=\u001b[39m \u001b[39mself\u001b[39m\u001b[39m.\u001b[39mbackend(\u001b[39mself\u001b[39m)\n\u001b[1;32m--> 251\u001b[0m \u001b[39mself\u001b[39;49m\u001b[39m.\u001b[39;49m_backend\u001b[39m.\u001b[39;49mshow()\n",
      "File \u001b[1;32mc:\\Users\\rymos\\AppData\\Local\\Programs\\Python\\Python311\\Lib\\site-packages\\sympy\\plotting\\plot.py:1575\u001b[0m, in \u001b[0;36mTextBackend.show\u001b[1;34m(self)\u001b[0m\n\u001b[0;32m   1573\u001b[0m     \u001b[39mreturn\u001b[39;00m\n\u001b[0;32m   1574\u001b[0m \u001b[39mif\u001b[39;00m \u001b[39mlen\u001b[39m(\u001b[39mself\u001b[39m\u001b[39m.\u001b[39mparent\u001b[39m.\u001b[39m_series) \u001b[39m!=\u001b[39m \u001b[39m1\u001b[39m:\n\u001b[1;32m-> 1575\u001b[0m     \u001b[39mraise\u001b[39;00m \u001b[39mValueError\u001b[39;00m(\n\u001b[0;32m   1576\u001b[0m         \u001b[39m'\u001b[39m\u001b[39mThe TextBackend supports only one graph per Plot.\u001b[39m\u001b[39m'\u001b[39m)\n\u001b[0;32m   1577\u001b[0m \u001b[39melif\u001b[39;00m \u001b[39mnot\u001b[39;00m \u001b[39misinstance\u001b[39m(\u001b[39mself\u001b[39m\u001b[39m.\u001b[39mparent\u001b[39m.\u001b[39m_series[\u001b[39m0\u001b[39m], LineOver1DRangeSeries):\n\u001b[0;32m   1578\u001b[0m     \u001b[39mraise\u001b[39;00m \u001b[39mValueError\u001b[39;00m(\n\u001b[0;32m   1579\u001b[0m         \u001b[39m'\u001b[39m\u001b[39mThe TextBackend supports only expressions over a 1D range\u001b[39m\u001b[39m'\u001b[39m)\n",
      "\u001b[1;31mValueError\u001b[0m: The TextBackend supports only one graph per Plot."
     ]
    }
   ],
   "source": [
    "from sympy.plotting import plot\n",
    "\n",
    "plot(funcA, funcB)"
   ]
  }
 ],
 "metadata": {
  "kernelspec": {
   "display_name": "Python 3.11.0 64-bit",
   "language": "python",
   "name": "python3"
  },
  "language_info": {
   "codemirror_mode": {
    "name": "ipython",
    "version": 3
   },
   "file_extension": ".py",
   "mimetype": "text/x-python",
   "name": "python",
   "nbconvert_exporter": "python",
   "pygments_lexer": "ipython3",
   "version": "3.11.0"
  },
  "orig_nbformat": 4,
  "vscode": {
   "interpreter": {
    "hash": "cd6712cf1149aa34af37a1be38757389b525306c5918d333f6ea450e50fe4a96"
   }
  }
 },
 "nbformat": 4,
 "nbformat_minor": 2
}
